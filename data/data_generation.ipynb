{
 "cells": [
  {
   "cell_type": "code",
   "execution_count": 1,
   "id": "4c945c93",
   "metadata": {},
   "outputs": [],
   "source": [
    "import pandas as pd\n",
    "\n",
    "import numpy as np\n",
    "\n",
    "from datetime import datetime, timedelta"
   ]
  },
  {
   "cell_type": "code",
   "execution_count": 2,
   "id": "df1c86b5",
   "metadata": {},
   "outputs": [
    {
     "name": "stdout",
     "output_type": "stream",
     "text": [
      "Mock retail sales data generated: retail_sales_mock_data.csv\n",
      "        Date  SalesAmount  Promotion  HolidayMonth\n",
      "0 2020-01-01        12248          0             0\n",
      "1 2020-02-01        11712          0             0\n",
      "2 2020-03-01        11423          0             0\n",
      "3 2020-04-01        14030          1             0\n",
      "4 2020-05-01         9082          0             0\n"
     ]
    },
    {
     "name": "stderr",
     "output_type": "stream",
     "text": [
      "C:\\Users\\OceanComputers\\AppData\\Local\\Temp\\ipykernel_9136\\1518628475.py:47: FutureWarning: Setting an item of incompatible dtype is deprecated and will raise an error in a future version of pandas. Value '[14030.88621694 10801.89205594 13786.55770615 11950.23605664\n",
      " 16623.34031037 14619.8465219 ]' has dtype incompatible with int64, please explicitly cast to a compatible dtype first.\n",
      "  sales_data.loc[sales_data['Promotion'] == 1, 'SalesAmount'] *= np.random.uniform(1.1, 1.3) # Increase sales during promotion\n"
     ]
    }
   ],
   "source": [
    "# Generate mock sales data\n",
    "\n",
    "np.random.seed(42)\n",
    "\n",
    "start_date = datetime(2020, 1, 1)\n",
    "\n",
    "num_months = 48 # 4 years of monthly data\n",
    "\n",
    "date_rng = pd.date_range(start_date, periods=num_months, freq='MS') # MS for Month Start\n",
    "\n",
    "\n",
    "\n",
    "sales_data = pd.DataFrame(date_rng, columns=['Date'])\n",
    "\n",
    "\n",
    "\n",
    "# Base sales with a slight upward trend\n",
    "\n",
    "base_sales = 10000 + np.arange(num_months) * 50\n",
    "\n",
    "\n",
    "\n",
    "# Seasonal component (higher in Q4, lower in Q1)\n",
    "\n",
    "seasonal_component = 2000 * np.sin(2 * np.pi * (sales_data['Date'].dt.month - 1) / 12 + np.pi/2) \\\n",
    "\n",
    "+ 1500 * np.sin(2 * np.pi * (sales_data['Date'].dt.month - 1) / 6)\n",
    "\n",
    "\n",
    "\n",
    "# Random noise\n",
    "\n",
    "noise = np.random.normal(0, 500, num_months)\n",
    "\n",
    "\n",
    "\n",
    "sales_data['SalesAmount'] = (base_sales + seasonal_component + noise).astype(int)\n",
    "\n",
    "sales_data['SalesAmount'] = sales_data['SalesAmount'].clip(lower=2000) # Ensure sales are positive\n",
    "\n",
    "\n",
    "\n",
    "# Add promotional flags (randomly)\n",
    "\n",
    "sales_data['Promotion'] = np.random.choice([0, 1], num_months, p=[0.8, 0.2])\n",
    "\n",
    "sales_data.loc[sales_data['Promotion'] == 1, 'SalesAmount'] *= np.random.uniform(1.1, 1.3) # Increase sales during promotion\n",
    "\n",
    "\n",
    "\n",
    "# Add holiday flags (e.g., December)\n",
    "\n",
    "sales_data['HolidayMonth'] = (sales_data['Date'].dt.month == 12).astype(int)\n",
    "\n",
    "sales_data.loc[sales_data['HolidayMonth'] == 1, 'SalesAmount'] *= np.random.uniform(1.15, 1.4) # Increase sales during holiday month\n",
    "\n",
    "\n",
    "\n",
    "sales_data['SalesAmount'] = sales_data['SalesAmount'].astype(int)\n",
    "\n",
    "\n",
    "\n",
    "# Save to CSV\n",
    "\n",
    "sales_data.to_csv('retail_sales_mock_data.csv', index=False)\n",
    "\n",
    "print(\"Mock retail sales data generated: retail_sales_mock_data.csv\")\n",
    "\n",
    "print(sales_data.head())\n",
    "\n"
   ]
  }
 ],
 "metadata": {
  "kernelspec": {
   "display_name": "ml_env",
   "language": "python",
   "name": "python3"
  },
  "language_info": {
   "codemirror_mode": {
    "name": "ipython",
    "version": 3
   },
   "file_extension": ".py",
   "mimetype": "text/x-python",
   "name": "python",
   "nbconvert_exporter": "python",
   "pygments_lexer": "ipython3",
   "version": "3.10.16"
  }
 },
 "nbformat": 4,
 "nbformat_minor": 5
}
