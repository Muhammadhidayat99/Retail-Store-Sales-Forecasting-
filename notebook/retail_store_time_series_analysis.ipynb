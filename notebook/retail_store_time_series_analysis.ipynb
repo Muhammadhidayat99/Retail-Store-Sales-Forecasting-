{
 "cells": [
  {
   "cell_type": "markdown",
   "metadata": {},
   "source": [
    "# Retail Store Time Series Analysis\n",
    "\n",
    "This notebook provides a comprehensive workflow for time series analysis on retail store sales data. The steps include exploratory data analysis (EDA), preprocessing, visualization, modeling, and forecasting. The goal is to help you understand patterns, seasonality, and make accurate sales forecasts to support data-driven retail decision-making.\n",
    "\n",
    "## Table of Contents\n",
    "1. [Introduction](#introduction)\n",
    "2. [Data Loading & Overview](#data-loading)\n",
    "3. [Exploratory Data Analysis (EDA)](#eda)\n",
    "4. [Data Preprocessing](#preprocessing)\n",
    "5. [Time Series Visualization](#visualization)\n",
    "6. [Stationarity & Decomposition](#stationarity)\n",
    "7. [Modeling & Forecasting](#modeling)\n",
    "8. [Evaluation & Conclusions](#evaluation)\n",
    "\n",
    "---"
   ]
  },
  {
   "cell_type": "markdown",
   "metadata": {},
   "source": [
    "## 1. Introduction <a id='introduction'></a>\n",
    "\n",
    "Retail businesses rely on accurate sales forecasts for inventory management, staffing, and marketing. Time series analysis helps uncover hidden trends, seasonality, and patterns in sales data. In this notebook, we will:\n",
    "\n",
    "- Explore and visualize retail store sales data\n",
    "- Prepare the data for time series modeling\n",
    "- Build forecasting models (ARIMA, Exponential Smoothing, Prophet)\n",
    "- Evaluate model performance\n",
    "- Generate actionable insights for retail planning"
   ]
  },
  {
   "cell_type": "code",
   "metadata": {},
   "source": [
    "# 2. Data Loading & Overview <a id='data-loading'></a>\n",
    "import pandas as pd\n",
    "import numpy as np\n",
    "\n",
    "# Load your data: replace 'your_data.csv' as needed\n",
    "df = pd.read_csv('your_data.csv', parse_dates=['date'])\n",
    "df.head()"
   ],
   "execution_count": null,
   "outputs": []
  },
  {
   "cell_type": "markdown",
   "metadata": {},
   "source": [
    "**Key Columns to Expect:**\n",
    "- `date`: Date of sales record\n",
    "- `store`: Store identifier\n",
    "- `item`: Item identifier (if applicable)\n",
    "- `sales`: Number of items sold\n",
    "- (Optional) Other features: promotions, holidays, etc."
   ]
  },
  {
   "cell_type": "code",
   "metadata": {},
   "source": [
    "# Quick overview\n",
    "print('Shape:', df.shape)\n",
    "print('Columns:', df.columns.tolist())\n",
    "df.describe(include='all')"
   ],
   "execution_count": null,
   "outputs": []
  },
  {
   "cell_type": "markdown",
   "metadata": {},
   "source": [
    "---\n",
    "## 3. Exploratory Data Analysis (EDA) <a id='eda'></a>"
   ]
  },
  {
   "cell_type": "code",
   "metadata": {},
   "source": [
    "# Check for missing values\n",
    "df.isnull().sum()"
   ],
   "execution_count": null,
   "outputs": []
  },
  {
   "cell_type": "code",
   "metadata": {},
   "source": [
    "# Sales over time\n",
    "import matplotlib.pyplot as plt\n",
    "plt.figure(figsize=(14, 6))\n",
    "plt.plot(df.groupby('date')['sales'].sum())\n",
    "plt.title('Total Sales Over Time')\n",
    "plt.xlabel('Date')\n",
    "plt.ylabel('Sales')\n",
    "plt.show()"
   ],
   "execution_count": null,
   "outputs": []
  },
  {
   "cell_type": "code",
   "metadata": {},
   "source": [
    "# Sales by store (if applicable)\n",
    "df.groupby('store')['sales'].sum().sort_values(ascending=False).plot(kind='bar', figsize=(10,4))\n",
    "plt.title('Total Sales by Store')\n",
    "plt.xlabel('Store')\n",
    "plt.ylabel('Sales')\n",
    "plt.show()"
   ],
   "execution_count": null,
   "outputs": []
  },
  {
   "cell_type": "markdown",
   "metadata": {},
   "source": [
    "---\n",
    "## 4. Data Preprocessing <a id='preprocessing'></a>"
   ]
  },
  {
   "cell_type": "code",
   "metadata": {},
   "source": [
    "# Set date as index\n",
    "df = df.set_index('date')\n",
    "\n",
    "# Aggregate sales (example: daily total sales)\n",
    "daily_sales = df['sales'].resample('D').sum()\n",
    "daily_sales.head()"
   ],
   "execution_count": null,
   "outputs": []
  },
  {
   "cell_type": "code",
   "metadata": {},
   "source": [
    "# Fill missing dates with 0 sales (if appropriate)\n",
    "daily_sales = daily_sales.asfreq('D', fill_value=0)"
   ],
   "execution_count": null,
   "outputs": []
  },
  {
   "cell_type": "markdown",
   "metadata": {},
   "source": [
    "---\n",
    "## 5. Time Series Visualization <a id='visualization'></a>"
   ]
  },
  {
   "cell_type": "code",
   "metadata": {},
   "source": [
    "plt.figure(figsize=(14,6))\n",
    "plt.plot(daily_sales)\n",
    "plt.title('Daily Sales Time Series')\n",
    "plt.xlabel('Date')\n",
    "plt.ylabel('Sales')\n",
    "plt.show()"
   ],
   "execution_count": null,
   "outputs": []
  },
  {
   "cell_type": "code",
   "metadata": {},
   "source": [
    "# Rolling mean and std\n",
    "rolling_mean = daily_sales.rolling(window=30).mean()\n",
    "rolling_std = daily_sales.rolling(window=30).std()\n",
    "\n",
    "plt.figure(figsize=(14,6))\n",
    "plt.plot(daily_sales, label='Daily Sales')\n",
    "plt.plot(rolling_mean, label='30-day Mean')\n",
    "plt.plot(rolling_std, label='30-day Std')\n",
    "plt.legend()\n",
    "plt.title('Rolling Mean and Standard Deviation')\n",
    "plt.show()"
   ],
   "execution_count": null,
   "outputs": []
  },
  {
   "cell_type": "markdown",
   "metadata": {},
   "source": [
    "---\n",
    "## 6. Stationarity & Decomposition <a id='stationarity'></a>"
   ]
  },
  {
   "cell_type": "code",
   "metadata": {},
   "source": [
    "# ADF test for stationarity\n",
    "from statsmodels.tsa.stattools import adfuller\n",
    "result = adfuller(daily_sales)\n",
    "print('ADF Statistic:', result[0])\n",
    "print('p-value:', result[1])"
   ],
   "execution_count": null,
   "outputs": []
  },
  {
   "cell_type": "code",
   "metadata": {},
   "source": [
    "# Decomposition\n",
    "from statsmodels.tsa.seasonal import seasonal_decompose\n",
    "decomposition = seasonal_decompose(daily_sales, model='additive', period=365)\n",
    "fig = decomposition.plot()\n",
    "fig.set_size_inches(14, 10)\n",
    "plt.show()"
   ],
   "execution_count": null,
   "outputs": []
  },
  {
   "cell_type": "markdown",
   "metadata": {},
   "source": [
    "---\n",
    "## 7. Modeling & Forecasting <a id='modeling'></a>"
   ]
  },
  {
   "cell_type": "code",
   "metadata": {},
   "source": [
    "# Train/test split\n",
    "split_date = daily_sales.index[-int(0.2*len(daily_sales))]\n",
    "train = daily_sales[:split_date]\n",
    "test = daily_sales[split_date:]\n",
    "print('Train shape:', train.shape)\n",
    "print('Test shape:', test.shape)"
   ],
   "execution_count": null,
   "outputs": []
  },
  {
   "cell_type": "markdown",
   "metadata": {},
   "source": [
    "### ARIMA Model"
   ]
  },
  {
   "cell_type": "code",
   "metadata": {},
   "source": [
    "from statsmodels.tsa.arima.model import ARIMA\n",
    "import warnings\n",
    "warnings.filterwarnings('ignore')\n",
    "\n",
    "model = ARIMA(train, order=(1,1,1))\n",
    "arima_result = model.fit()\n",
    "arima_forecast = arima_result.forecast(steps=len(test))\n",
    "\n",
    "plt.figure(figsize=(14,6))\n",
    "plt.plot(train, label='Train')\n",
    "plt.plot(test, label='Test')\n",
    "plt.plot(test.index, arima_forecast, label='ARIMA Forecast')\n",
    "plt.legend()\n",
    "plt.title('ARIMA Forecast vs Actuals')\n",
    "plt.show()"
   ],
   "execution_count": null,
   "outputs": []
  },
  {
   "cell_type": "markdown",
   "metadata": {},
   "source": [
    "### Exponential Smoothing"
   ]
  },
  {
   "cell_type": "code",
   "metadata": {},
   "source": [
    "from statsmodels.tsa.holtwinters import ExponentialSmoothing\n",
    "hw_model = ExponentialSmoothing(train, trend='add', seasonal='add', seasonal_periods=365).fit()\n",
    "hw_forecast = hw_model.forecast(len(test))\n",
    "\n",
    "plt.figure(figsize=(14,6))\n",
    "plt.plot(test, label='Test')\n",
    "plt.plot(test.index, hw_forecast, label='Holt-Winters Forecast')\n",
    "plt.legend()\n",
    "plt.title('Holt-Winters Forecast vs Actuals')\n",
    "plt.show()"
   ],
   "execution_count": null,
   "outputs": []
  },
  {
   "cell_type": "markdown",
   "metadata": {},
   "source": [
    "### Prophet (Optional, if available)\n",
    "Prophet is a powerful time series library from Facebook. Install with `pip install prophet` if not present."
   ]
  },
  {
   "cell_type": "code",
   "metadata": {},
   "source": [
    "try:\n",
    "    from prophet import Prophet\n",
    "    prophet_df = train.reset_index().rename(columns={'date':'ds','sales':'y'})\n",
    "    model = Prophet(yearly_seasonality=True, daily_seasonality=False)\n",
    "    model.fit(prophet_df)\n",
    "\n",
    "    future = model.make_future_dataframe(periods=len(test))\n",
    "    forecast = model.predict(future)\n",
    "\n",
    "    plt.figure(figsize=(14,6))\n",
    "    plt.plot(test.index, test, label='Test')\n",
    "    plt.plot(test.index, forecast['yhat'][-len(test):].values, label='Prophet Forecast')\n",
    "    plt.legend()\n",
    "    plt.title('Prophet Forecast vs Actuals')\n",
    "    plt.show()\n",
    "except ImportError:\n",
    "    print('Prophet not installed, skipping this section.')"
   ],
   "execution_count": null,
   "outputs": []
  },
  {
   "cell_type": "markdown",
   "metadata": {},
   "source": [
    "---\n",
    "## 8. Evaluation & Conclusions <a id='evaluation'></a>"
   ]
  },
  {
   "cell_type": "code",
   "metadata": {},
   "source": [
    "from sklearn.metrics import mean_squared_error, mean_absolute_error\n",
    "\n",
    "def print_metrics(true, pred, name):\n",
    "    print(f'--- {name} ---')\n",
    "    print('MAE:', mean_absolute_error(true, pred))\n",
    "    print('RMSE:', mean_squared_error(true, pred, squared=False))\n",
    "\n",
    "print_metrics(test, arima_forecast, 'ARIMA')\n",
    "print_metrics(test, hw_forecast, 'Holt-Winters')\n",
    "# For Prophet, if used:\n",
    "# print_metrics(test, forecast['yhat'][-len(test):].values, 'Prophet')"
   ],
   "execution_count": null,
   "outputs": []
  },
  {
   "cell_type": "markdown",
   "metadata": {},
   "source": [
    "### Key Takeaways\n",
    "- Visualizations and decomposition help understand seasonality and trends.\n",
    "- ARIMA and Exponential Smoothing provide good benchmarks for retail forecasting.\n",
    "- Prophet is robust for capturing complex seasonal effects (when available).\n",
    "- Always use hold-out/test data to evaluate forecasting accuracy.\n",
    "\n",
    "For production, consider tuning model hyperparameters, including external regressors (promotions, holidays), and automating retraining."
   ]
  }
 ],
 "metadata": {
  "kernelspec": {
   "display_name": "Python 3",
   "language": "python",
   "name": "python3"
  },
  "language_info": {
   "name": "python",
   "version": ""
  }
 },
 "nbformat": 4,
 "nbformat_minor": 5
}