{
 "cells": [
  {
   "cell_type": "markdown",
   "metadata": {},
   "source": [
    "# Retail Store Sales Forecasting\n",
    "## Enhanced: SARIMA Model, Hyperparameter Tuning, and External Regressors"
   ]
  },
  {
   "cell_type": "code",
   "metadata": {},
   "source": [
    "# Imports\n",
    "import pandas as pd\n",
    "import numpy as np\n",
    "import matplotlib.pyplot as plt\n",
    "from statsmodels.tsa.statespace.sarimax import SARIMAX\n",
    "from statsmodels.tsa.stattools import adfuller\n",
    "from statsmodels.tsa.seasonal import seasonal_decompose\n",
    "from statsmodels.graphics.tsaplots import plot_acf, plot_pacf\n",
    "from sklearn.model_selection import TimeSeriesSplit, ParameterGrid\n",
    "from sklearn.metrics import mean_squared_error\n"
   ]
  },
  {
   "cell_type": "code",
   "metadata": {},
   "source": [
    "# Data loading (update path as needed)\n",
    "df = pd.read_csv(\"D:/internship/Retail_Store_Sales_Forecasting/data/retail_sales_mock_data.csv\")\n",
    "df['Date'] = pd.to_datetime(df['Date'])\n",
    "df = df.set_index('Date').sort_index()\n",
    "\n",
    "# Resample to monthly (if not already)\n",
    "df_monthly = df.resample('M').sum()\n"
   ]
  },
  {
   "cell_type": "markdown",
   "metadata": {},
   "source": [
    "### Handling Outliers and Interpolating"
   ]
  },
  {
   "cell_type": "code",
   "metadata": {},
   "source": [
    "from scipy.stats import zscore\n",
    "z_scores = zscore(df_monthly)\n",
    "outliers = np.abs(z_scores) > 3\n",
    "df_monthly[outliers] = np.nan\n",
    "df_monthly = df_monthly.interpolate()\n"
   ]
  },
  {
   "cell_type": "markdown",
   "metadata": {},
   "source": [
    "### Add (Example) Economic Indicators as Regressors\n",
    "*Assume your dataset does not already have economic indicators. This is a synthetic addition, in practice you would join real economic indicators.*"
   ]
  },
  {
   "cell_type": "code",
   "metadata": {},
   "source": [
    "# Synthetic economic indicator (e.g., monthly CPI or unemployment rate, here random)\n",
    "np.random.seed(42)\n",
    "df_monthly['EconIndicator'] = np.random.normal(100, 5, len(df_monthly))\n",
    "\n",
    "# Preview\n",
    "display(df_monthly.head())"
   ]
  },
  {
   "cell_type": "markdown",
   "metadata": {},
   "source": [
    "## Stationarity Check and Differencing"
   ]
  },
  {
   "cell_type": "code",
   "metadata": {},
   "source": [
    "adf_result = adfuller(df_monthly['SalesAmount'])\n",
    "print(f\"ADF Statistic: {adf_result[0]:.4f}, p-value: {adf_result[1]:.4f}\")\n",
    "if adf_result[1] > 0.05:\n",
    "    df_monthly['Sales_diff1'] = df_monthly['SalesAmount'].diff()\n",
    "    df_model = df_monthly.dropna(subset=['Sales_diff1'])\n",
    "    target_col = 'Sales_diff1'\n",
    "else:\n",
    "    df_model = df_monthly.copy()\n",
    "    target_col = 'SalesAmount'\n"
   ]
  },
  {
   "cell_type": "markdown",
   "metadata": {},
   "source": [
    "## SARIMA with External Regressors\n",
    "Columns used as exogenous variables: Promotion, HolidayMonth, EconIndicator"
   ]
  },
  {
   "cell_type": "code",
   "metadata": {},
   "source": [
    "exog_cols = ['Promotion', 'HolidayMonth', 'EconIndicator']\n",
    "exog = df_model[exog_cols]\n",
    "y = df_model[target_col]\n",
    "\n",
    "# Train-test split (last 6 months as test set)\n",
    "train_size = int(len(df_model) - 6)\n",
    "y_train, y_test = y.iloc[:train_size], y.iloc[train_size:]\n",
    "exog_train, exog_test = exog.iloc[:train_size], exog.iloc[train_size:]\n"
   ]
  },
  {
   "cell_type": "markdown",
   "metadata": {},
   "source": [
    "### SARIMA Hyperparameter Search\n",
    "Grid search (example: limited for speed; expand in production):"
   ]
  },
  {
   "cell_type": "code",
   "metadata": {},
   "source": [
    "param_grid = {\n",
    "    'order': [(1,1,1), (2,1,2)],\n",
    "    'seasonal_order': [(1,1,1,12), (0,1,1,12)]\n",
    "}\n",
    "\n",
    "best_score = float('inf')\n",
    "best_params = None\n",
    "for params in ParameterGrid(param_grid):\n",
    "    try:\n",
    "        model = SARIMAX(y_train, exog=exog_train, order=params['order'], seasonal_order=params['seasonal_order'], enforce_stationarity=False, enforce_invertibility=False)\n",
    "        model_fit = model.fit(disp=False)\n",
    "        y_pred = model_fit.forecast(steps=len(y_test), exog=exog_test)\n",
    "        rmse = np.sqrt(mean_squared_error(y_test, y_pred))\n",
    "        if rmse < best_score:\n",
    "            best_score = rmse\n",
    "            best_params = params\n",
    "    except Exception as e:\n",
    "        print(f\"Params {params} failed: {e}\")\n",
    "print(f\"Best SARIMA params: {best_params}, RMSE: {best_score:.2f}\")"
   ]
  },
  {
   "cell_type": "markdown",
   "metadata": {},
   "source": [
    "### Fit Final Model"
   ]
  },
  {
   "cell_type": "code",
   "metadata": {},
   "source": [
    "# Fit best model on all data except test set\n",
    "model_final = SARIMAX(y_train, exog=exog_train, order=best_params['order'], seasonal_order=best_params['seasonal_order'], enforce_stationarity=False, enforce_invertibility=False)\n",
    "model_fit_final = model_final.fit(disp=False)\n",
    "y_pred_final = model_fit_final.forecast(steps=len(y_test), exog=exog_test)\n"
   ]
  },
  {
   "cell_type": "markdown",
   "metadata": {},
   "source": [
    "### Inverse Differencing (if needed)"
   ]
  },
  {
   "cell_type": "code",
   "metadata": {},
   "source": [
    "if target_col == 'Sales_diff1':\n",
    "    # Recover forecasted sales from differenced values\n",
    "    last_actual = df_monthly['SalesAmount'].iloc[train_size-1]\n",
    "    y_pred_sales = np.r_[last_actual, y_pred_final].cumsum()[1:]\n",
    "    y_test_sales = df_monthly['SalesAmount'].iloc[train_size:]\n",
    "else:\n",
    "    y_pred_sales = y_pred_final\n",
    "    y_test_sales = y_test\n"
   ]
  },
  {
   "cell_type": "markdown",
   "metadata": {},
   "source": [
    "### Evaluation & Plot"
   ]
  },
  {
   "cell_type": "code",
   "metadata": {},
   "source": [
    "rmse = np.sqrt(mean_squared_error(y_test_sales, y_pred_sales))\n",
    "print(f'Final RMSE on test set: {rmse:.2f}')\n",
    "plt.figure(figsize=(12,6))\n",
    "plt.plot(df_monthly.index, df_monthly['SalesAmount'], label='Actual')\n",
    "plt.plot(y_test_sales.index, y_pred_sales, label='SARIMA+Exog Forecast', marker='o')\n",
    "plt.title('Retail Sales Forecast with SARIMA + External Regressors')\n",
    "plt.xlabel('Date')\n",
    "plt.ylabel('Monthly Sales')\n",
    "plt.legend()\n",
    "plt.grid(True)\n",
    "plt.tight_layout()\n",
    "plt.show()"
   ]
  },
  {
   "cell_type": "markdown",
   "metadata": {},
   "source": [
    "----\n",
    "**Notes:**\n",
    "- You can expand the parameter grid for more exhaustive SARIMA tuning.\n",
    "- Replace the synthetic economic indicator with real data for production.\n",
    "- You can add more external regressors (weather, special events, etc.) as available.\n",
    "- Use cross-validation (such as TimeSeriesSplit) for robust model validation in production."
   ]
  }
 ],
 "metadata": {
  "kernelspec": {
   "display_name": "Python 3",
   "language": "python",
   "name": "python3"
  },
  "language_info": {
   "name": "python",
   "version": "3.10"
  }
 },
 "nbformat": 4,
 "nbformat_minor": 5
}